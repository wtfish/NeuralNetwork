{
 "cells": [
  {
   "attachments": {},
   "cell_type": "markdown",
   "metadata": {},
   "source": [
    "# Cara pakai Tensorflow\n",
    "* Sebuah input 2x3 memiliki 2 dataset dengan 3 fitur\n",
    "* cara buat nya yaitu buat model terlebih dahulu, kemudian COMPILE untuk memilih loss function dan optimizer FIT untuk memilih data, batch, dan epoch\n"
   ]
  },
  {
   "cell_type": "code",
   "execution_count": 3,
   "metadata": {},
   "outputs": [],
   "source": [
    "import numpy as np\n",
    "import tensorflow as tf\n",
    "from tensorflow.keras.models import Sequential\n",
    "from tensorflow.keras.layers import Dense"
   ]
  },
  {
   "cell_type": "code",
   "execution_count": 3,
   "metadata": {},
   "outputs": [
    {
     "name": "stdout",
     "output_type": "stream",
     "text": [
      "(2, 3)\n"
     ]
    }
   ],
   "source": [
    "x=np.array([\n",
    "    [1,2,3],\n",
    "    [4,5,6]\n",
    "])\n",
    "print(x.shape)"
   ]
  },
  {
   "cell_type": "code",
   "execution_count": 4,
   "metadata": {},
   "outputs": [],
   "source": [
    "model = Sequential(\n",
    "    [\n",
    "        tf.keras.Input(shape=(2,)),\n",
    "        Dense(3, activation='sigmoid', name = 'layer1'),\n",
    "        Dense(1, activation='sigmoid', name = 'layer2')\n",
    "     ]\n",
    ")"
   ]
  },
  {
   "cell_type": "code",
   "execution_count": 5,
   "metadata": {},
   "outputs": [
    {
     "name": "stdout",
     "output_type": "stream",
     "text": [
      "Model: \"sequential\"\n",
      "_________________________________________________________________\n",
      " Layer (type)                Output Shape              Param #   \n",
      "=================================================================\n",
      " layer1 (Dense)              (None, 3)                 9         \n",
      "                                                                 \n",
      " layer2 (Dense)              (None, 1)                 4         \n",
      "                                                                 \n",
      "=================================================================\n",
      "Total params: 13\n",
      "Trainable params: 13\n",
      "Non-trainable params: 0\n",
      "_________________________________________________________________\n"
     ]
    }
   ],
   "source": [
    "model.summary()"
   ]
  },
  {
   "attachments": {},
   "cell_type": "markdown",
   "metadata": {},
   "source": [
    "param adalah banyaknya (input*neuron)W1 parameters  + b1 parameters"
   ]
  },
  {
   "attachments": {},
   "cell_type": "markdown",
   "metadata": {},
   "source": [
    "# Contoh Coffe Bean"
   ]
  },
  {
   "cell_type": "code",
   "execution_count": 61,
   "metadata": {},
   "outputs": [],
   "source": [
    "#Load Datashet\n",
    "X=np.array([[185.32,  12.69],\n",
    "       [259.92,  11.87],\n",
    "       [231.01,  14.41],\n",
    "       [175.37,  11.72],\n",
    "       [187.12,  14.13],\n",
    "       [225.91,  12.1 ],\n",
    "       [208.41,  14.18],\n",
    "       [207.08,  14.03],\n",
    "       [280.6 ,  14.23],\n",
    "       [202.87,  12.25],\n",
    "       [196.7 ,  13.54],\n",
    "       [270.31,  14.6 ],\n",
    "       [192.95,  15.2 ],\n",
    "       [213.57,  14.28],\n",
    "       [164.47,  11.92],\n",
    "       [177.26,  15.04],\n",
    "       [241.77,  14.9 ],\n",
    "       [237.  ,  13.13],\n",
    "       [219.74,  13.87],\n",
    "       [266.39,  13.25],\n",
    "       [270.45,  13.95],\n",
    "       [261.96,  13.49],\n",
    "       [243.49,  12.86],\n",
    "       [220.58,  12.36],\n",
    "       [163.59,  11.65],\n",
    "       [244.76,  13.33],\n",
    "       [271.19,  14.84],\n",
    "       [201.99,  15.39],\n",
    "       [229.93,  14.56],\n",
    "       [204.97,  12.28],\n",
    "       [173.19,  12.22],\n",
    "       [231.51,  11.95],\n",
    "       [152.69,  14.83],\n",
    "       [163.42,  13.3 ],\n",
    "       [215.95,  13.98],\n",
    "       [218.04,  15.25],\n",
    "       [251.3 ,  13.8 ],\n",
    "       [233.33,  13.53],\n",
    "       [280.24,  12.41],\n",
    "       [243.02,  13.72],\n",
    "       [155.67,  12.68],\n",
    "       [275.17,  14.64],\n",
    "       [151.73,  12.69],\n",
    "       [151.32,  14.81],\n",
    "       [164.9 ,  11.73],\n",
    "       [282.55,  13.28],\n",
    "       [192.98,  11.7 ],\n",
    "       [202.6 ,  12.96],\n",
    "       [220.67,  11.53],\n",
    "       [169.97,  12.34],\n",
    "       [209.47,  12.71],\n",
    "       [232.8 ,  12.64],\n",
    "       [272.8 ,  15.35],\n",
    "       [158.02,  12.34],\n",
    "       [226.01,  14.58],\n",
    "       [158.64,  12.24],\n",
    "       [211.66,  14.17],\n",
    "       [271.95,  14.97],\n",
    "       [257.16,  11.71],\n",
    "       [281.85,  13.96],\n",
    "       [161.63,  12.52],\n",
    "       [233.8 ,  13.04],\n",
    "       [210.29,  14.72],\n",
    "       [261.24,  13.69],\n",
    "       [256.98,  13.12],\n",
    "       [281.56,  13.92],\n",
    "       [280.64,  11.68],\n",
    "       [269.16,  13.74],\n",
    "       [246.34,  12.27],\n",
    "       [224.07,  12.66],\n",
    "       [164.24,  11.51],\n",
    "       [272.42,  14.18],\n",
    "       [177.68,  12.53],\n",
    "       [212.86,  14.77],\n",
    "       [165.88,  15.37],\n",
    "       [277.43,  12.48],\n",
    "       [236.51,  12.94],\n",
    "       [244.14,  11.85],\n",
    "       [213.45,  13.85],\n",
    "       [234.57,  14.27],\n",
    "       [270.34,  12.47],\n",
    "       [170.68,  13.06],\n",
    "       [226.79,  15.34],\n",
    "       [245.92,  14.45],\n",
    "       [281.32,  12.57],\n",
    "       [185.03,  13.19],\n",
    "       [189.88,  14.1 ],\n",
    "       [278.48,  12.11],\n",
    "       [219.92,  14.21],\n",
    "       [216.58,  15.15],\n",
    "       [249.48,  15.03],\n",
    "       [165.09,  12.28],\n",
    "       [158.87,  14.82],\n",
    "       [279.98,  11.56],\n",
    "       [256.55,  14.41],\n",
    "       [272.61,  12.58],\n",
    "       [246.49,  12.45],\n",
    "       [160.26,  14.48],\n",
    "       [155.7 ,  14.3 ],\n",
    "       [188.27,  13.45],\n",
    "       [270.36,  12.47],\n",
    "       [213.22,  12.92],\n",
    "       [175.7 ,  13.39],\n",
    "       [174.52,  14.7 ],\n",
    "       [233.  ,  12.63],\n",
    "       [281.37,  12.88],\n",
    "       [240.62,  14.43],\n",
    "       [185.81,  11.55],\n",
    "       [270.5 ,  15.33],\n",
    "       [172.98,  12.11],\n",
    "       [208.41,  13.89],\n",
    "       [283.51,  15.35],\n",
    "       [283.36,  12.48],\n",
    "       [230.85,  13.24],\n",
    "       [181.24,  11.76],\n",
    "       [172.78,  12.93],\n",
    "       [161.88,  12.1 ],\n",
    "       [156.03,  13.99],\n",
    "       [216.52,  12.47],\n",
    "       [221.06,  13.2 ],\n",
    "       [238.99,  15.23],\n",
    "       [197.69,  14.08],\n",
    "       [179.55,  15.26],\n",
    "       [233.39,  12.13],\n",
    "       [184.7 ,  12.14],\n",
    "       [174.18,  12.73],\n",
    "       [261.11,  13.33],\n",
    "       [187.42,  13.18],\n",
    "       [186.1 ,  14.43],\n",
    "       [157.94,  12.66],\n",
    "       [193.64,  12.23],\n",
    "       [249.65,  12.22],\n",
    "       [190.56,  11.73],\n",
    "       [252.  ,  12.96],\n",
    "       [238.55,  12.37],\n",
    "       [152.94,  12.79],\n",
    "       [255.17,  14.85],\n",
    "       [197.09,  14.89],\n",
    "       [156.8 ,  13.59],\n",
    "       [184.75,  13.26],\n",
    "       [179.92,  15.07],\n",
    "       [190.79,  15.28],\n",
    "       [164.73,  13.22],\n",
    "       [209.87,  14.34],\n",
    "       [196.58,  13.47],\n",
    "       [159.51,  12.74],\n",
    "       [247.87,  11.92],\n",
    "       [212.44,  12.45],\n",
    "       [172.34,  11.99],\n",
    "       [259.87,  14.25],\n",
    "       [201.23,  13.07],\n",
    "       [248.34,  13.92],\n",
    "       [273.66,  15.18],\n",
    "       [215.09,  14.14],\n",
    "       [223.53,  12.74],\n",
    "       [211.22,  14.38],\n",
    "       [224.61,  14.03],\n",
    "       [215.75,  15.31],\n",
    "       [254.82,  12.02],\n",
    "       [259.9 ,  15.17],\n",
    "       [260.25,  12.87],\n",
    "       [199.67,  12.47],\n",
    "       [157.52,  13.39],\n",
    "       [264.81,  14.58],\n",
    "       [239.4 ,  14.89],\n",
    "       [238.98,  12.39],\n",
    "       [258.43,  12.97],\n",
    "       [270.16,  12.81],\n",
    "       [162.41,  14.42],\n",
    "       [164.53,  14.98],\n",
    "       [205.61,  14.62],\n",
    "       [157.1 ,  13.68],\n",
    "       [241.38,  12.02],\n",
    "       [232.13,  12.07],\n",
    "       [191.04,  12.96],\n",
    "       [233.64,  12.02],\n",
    "       [174.95,  14.63],\n",
    "       [246.64,  13.32],\n",
    "       [188.07,  14.27],\n",
    "       [213.16,  12.75],\n",
    "       [268.08,  12.31],\n",
    "       [258.58,  13.97],\n",
    "       [237.21,  14.23],\n",
    "       [251.02,  15.02],\n",
    "       [274.28,  12.52],\n",
    "       [172.12,  15.09],\n",
    "       [177.52,  12.39],\n",
    "       [258.71,  15.36],\n",
    "       [264.01,  13.57],\n",
    "       [200.71,  15.45],\n",
    "       [249.37,  14.02],\n",
    "       [151.5 ,  12.28],\n",
    "       [151.82,  15.13],\n",
    "       [181.92,  12.18],\n",
    "       [228.65,  12.31],\n",
    "       [223.78,  15.3 ],\n",
    "       [266.63,  12.48],\n",
    "       [273.68,  13.1 ],\n",
    "       [220.61,  12.8 ],\n",
    "       [284.99,  12.73]])\n",
    "Y=np.array([[1.],\n",
    "       [0.],\n",
    "       [0.],\n",
    "       [0.],\n",
    "       [1.],\n",
    "       [1.],\n",
    "       [0.],\n",
    "       [0.],\n",
    "       [0.],\n",
    "       [1.],\n",
    "       [1.],\n",
    "       [0.],\n",
    "       [0.],\n",
    "       [0.],\n",
    "       [0.],\n",
    "       [0.],\n",
    "       [0.],\n",
    "       [0.],\n",
    "       [0.],\n",
    "       [0.],\n",
    "       [0.],\n",
    "       [0.],\n",
    "       [0.],\n",
    "       [1.],\n",
    "       [0.],\n",
    "       [0.],\n",
    "       [0.],\n",
    "       [0.],\n",
    "       [0.],\n",
    "       [1.],\n",
    "       [0.],\n",
    "       [0.],\n",
    "       [0.],\n",
    "       [0.],\n",
    "       [0.],\n",
    "       [0.],\n",
    "       [0.],\n",
    "       [0.],\n",
    "       [0.],\n",
    "       [0.],\n",
    "       [0.],\n",
    "       [0.],\n",
    "       [0.],\n",
    "       [0.],\n",
    "       [0.],\n",
    "       [0.],\n",
    "       [0.],\n",
    "       [1.],\n",
    "       [0.],\n",
    "       [0.],\n",
    "       [1.],\n",
    "       [1.],\n",
    "       [0.],\n",
    "       [0.],\n",
    "       [0.],\n",
    "       [0.],\n",
    "       [0.],\n",
    "       [0.],\n",
    "       [0.],\n",
    "       [0.],\n",
    "       [0.],\n",
    "       [0.],\n",
    "       [0.],\n",
    "       [0.],\n",
    "       [0.],\n",
    "       [0.],\n",
    "       [0.],\n",
    "       [0.],\n",
    "       [1.],\n",
    "       [1.],\n",
    "       [0.],\n",
    "       [0.],\n",
    "       [1.],\n",
    "       [0.],\n",
    "       [0.],\n",
    "       [0.],\n",
    "       [0.],\n",
    "       [0.],\n",
    "       [0.],\n",
    "       [0.],\n",
    "       [0.],\n",
    "       [0.],\n",
    "       [0.],\n",
    "       [0.],\n",
    "       [0.],\n",
    "       [1.],\n",
    "       [1.],\n",
    "       [0.],\n",
    "       [0.],\n",
    "       [0.],\n",
    "       [0.],\n",
    "       [0.],\n",
    "       [0.],\n",
    "       [0.],\n",
    "       [0.],\n",
    "       [0.],\n",
    "       [0.],\n",
    "       [0.],\n",
    "       [0.],\n",
    "       [1.],\n",
    "       [0.],\n",
    "       [1.],\n",
    "       [1.],\n",
    "       [0.],\n",
    "       [1.],\n",
    "       [0.],\n",
    "       [0.],\n",
    "       [0.],\n",
    "       [0.],\n",
    "       [0.],\n",
    "       [0.],\n",
    "       [0.],\n",
    "       [0.],\n",
    "       [0.],\n",
    "       [0.],\n",
    "       [0.],\n",
    "       [0.],\n",
    "       [0.],\n",
    "       [1.],\n",
    "       [1.],\n",
    "       [0.],\n",
    "       [0.],\n",
    "       [0.],\n",
    "       [1.],\n",
    "       [1.],\n",
    "       [0.],\n",
    "       [0.],\n",
    "       [1.],\n",
    "       [0.],\n",
    "       [0.],\n",
    "       [1.],\n",
    "       [0.],\n",
    "       [0.],\n",
    "       [0.],\n",
    "       [1.],\n",
    "       [0.],\n",
    "       [0.],\n",
    "       [0.],\n",
    "       [0.],\n",
    "       [1.],\n",
    "       [0.],\n",
    "       [0.],\n",
    "       [0.],\n",
    "       [0.],\n",
    "       [1.],\n",
    "       [0.],\n",
    "       [0.],\n",
    "       [1.],\n",
    "       [0.],\n",
    "       [0.],\n",
    "       [1.],\n",
    "       [0.],\n",
    "       [0.],\n",
    "       [0.],\n",
    "       [1.],\n",
    "       [0.],\n",
    "       [0.],\n",
    "       [0.],\n",
    "       [0.],\n",
    "       [0.],\n",
    "       [0.],\n",
    "       [1.],\n",
    "       [0.],\n",
    "       [0.],\n",
    "       [0.],\n",
    "       [1.],\n",
    "       [0.],\n",
    "       [0.],\n",
    "       [0.],\n",
    "       [0.],\n",
    "       [0.],\n",
    "       [0.],\n",
    "       [1.],\n",
    "       [1.],\n",
    "       [1.],\n",
    "       [1.],\n",
    "       [0.],\n",
    "       [0.],\n",
    "       [1.],\n",
    "       [1.],\n",
    "       [0.],\n",
    "       [0.],\n",
    "       [0.],\n",
    "       [0.],\n",
    "       [0.],\n",
    "       [0.],\n",
    "       [1.],\n",
    "       [0.],\n",
    "       [0.],\n",
    "       [0.],\n",
    "       [0.],\n",
    "       [0.],\n",
    "       [0.],\n",
    "       [1.],\n",
    "       [1.],\n",
    "       [0.],\n",
    "       [0.],\n",
    "       [0.],\n",
    "       [1.],\n",
    "       [0.]])"
   ]
  },
  {
   "cell_type": "code",
   "execution_count": 21,
   "metadata": {},
   "outputs": [
    {
     "name": "stdout",
     "output_type": "stream",
     "text": [
      "Terdapat 200 training example dengan 2 fitur\n"
     ]
    }
   ],
   "source": [
    "print(\"Terdapat {} training example dengan {} fitur\".format(X.shape[0],X.shape[1]))"
   ]
  },
  {
   "cell_type": "code",
   "execution_count": 48,
   "metadata": {},
   "outputs": [],
   "source": [
    "tf.random.set_seed(1234)  # applied to achieve consistent results\n",
    "model = Sequential(\n",
    "    [\n",
    "        tf.keras.Input(shape=(2,)),\n",
    "        Dense(3, activation='sigmoid', name = 'layer1'),\n",
    "        Dense(1, activation='sigmoid', name = 'layer2')\n",
    "     ]\n",
    ")\n",
    "\n"
   ]
  },
  {
   "cell_type": "code",
   "execution_count": 36,
   "metadata": {},
   "outputs": [
    {
     "name": "stdout",
     "output_type": "stream",
     "text": [
      "Temperature Max, Min pre normalization: 284.99, 151.32\n",
      "Duration    Max, Min pre normalization: 15.45, 11.51\n",
      "Temperature Max, Min post normalization: 1.66, -1.69\n",
      "Duration    Max, Min post normalization: 1.79, -1.70\n"
     ]
    }
   ],
   "source": [
    "# Normalisasi\n",
    "print(f\"Temperature Max, Min pre normalization: {np.max(X[:,0]):0.2f}, {np.min(X[:,0]):0.2f}\")\n",
    "print(f\"Duration    Max, Min pre normalization: {np.max(X[:,1]):0.2f}, {np.min(X[:,1]):0.2f}\")\n",
    "norm_l = tf.keras.layers.Normalization(axis=-1)\n",
    "norm_l.adapt(X)  # learns mean, variance\n",
    "Xn = norm_l(X)\n",
    "print(f\"Temperature Max, Min post normalization: {np.max(Xn[:,0]):0.2f}, {np.min(Xn[:,0]):0.2f}\")\n",
    "print(f\"Duration    Max, Min post normalization: {np.max(Xn[:,1]):0.2f}, {np.min(Xn[:,1]):0.2f}\")"
   ]
  },
  {
   "cell_type": "code",
   "execution_count": 44,
   "metadata": {},
   "outputs": [
    {
     "name": "stdout",
     "output_type": "stream",
     "text": [
      "(200000, 2) (200000, 1)\n"
     ]
    }
   ],
   "source": [
    "Xt = np.tile(Xn,(1000,1))\n",
    "Yt= np.tile(Y,(1000,1))   \n",
    "print(Xt.shape, Yt.shape)   "
   ]
  },
  {
   "cell_type": "code",
   "execution_count": 37,
   "metadata": {},
   "outputs": [
    {
     "name": "stdout",
     "output_type": "stream",
     "text": [
      "Model: \"sequential_5\"\n",
      "_________________________________________________________________\n",
      " Layer (type)                Output Shape              Param #   \n",
      "=================================================================\n",
      " layer1 (Dense)              (None, 3)                 9         \n",
      "                                                                 \n",
      " layer2 (Dense)              (None, 1)                 4         \n",
      "                                                                 \n",
      "=================================================================\n",
      "Total params: 13\n",
      "Trainable params: 13\n",
      "Non-trainable params: 0\n",
      "_________________________________________________________________\n"
     ]
    }
   ],
   "source": [
    "model.summary()"
   ]
  },
  {
   "cell_type": "code",
   "execution_count": 38,
   "metadata": {},
   "outputs": [
    {
     "name": "stdout",
     "output_type": "stream",
     "text": [
      "W1(2, 3):\n",
      " [[-0.3870201   0.42309356  0.85683453]\n",
      " [ 0.07429683 -0.09413517  0.89022005]] \n",
      "b1(3,): [-1.2622304e-18  0.0000000e+00  0.0000000e+00]\n",
      "W2(3, 1):\n",
      " [[ 0.6760218 ]\n",
      " [ 0.31417504]\n",
      " [-0.8251801 ]] \n",
      "b2(1,): [-0.7700234]\n"
     ]
    }
   ],
   "source": [
    "W1, b1 = model.get_layer(\"layer1\").get_weights()\n",
    "W2, b2 = model.get_layer(\"layer2\").get_weights()\n",
    "print(f\"W1{W1.shape}:\\n\", W1, f\"\\nb1{b1.shape}:\", b1)\n",
    "print(f\"W2{W2.shape}:\\n\", W2, f\"\\nb2{b2.shape}:\", b2)"
   ]
  },
  {
   "cell_type": "code",
   "execution_count": 57,
   "metadata": {},
   "outputs": [
    {
     "name": "stdout",
     "output_type": "stream",
     "text": [
      "1 kolom menunjukkan 1 weight dari neuron contoh:\n",
      "weight neuron 1 [-19.505337 -16.283802]\n",
      "weight neuron 2 [-0.06301843 -9.589607  ]\n",
      "weight neuron 3 [-11.64935     -0.32047108]\n"
     ]
    }
   ],
   "source": [
    "print(\"1 kolom menunjukkan 1 weight dari neuron contoh:\")\n",
    "print(\"weight neuron 1\",W1[:,0])\n",
    "print(\"weight neuron 2\",W1[:,1])\n",
    "print(\"weight neuron 3\",W1[:,2])"
   ]
  },
  {
   "cell_type": "code",
   "execution_count": 50,
   "metadata": {},
   "outputs": [
    {
     "name": "stdout",
     "output_type": "stream",
     "text": [
      "Epoch 1/10\n",
      "6061/6061 [==============================] - 9s 1ms/step - loss: 0.0023\n",
      "Epoch 2/10\n",
      "6061/6061 [==============================] - 9s 2ms/step - loss: 0.0017\n",
      "Epoch 3/10\n",
      "6061/6061 [==============================] - 9s 1ms/step - loss: 0.0013\n",
      "Epoch 4/10\n",
      "6061/6061 [==============================] - 9s 1ms/step - loss: 0.0010\n",
      "Epoch 5/10\n",
      "6061/6061 [==============================] - 9s 1ms/step - loss: 7.7754e-04\n",
      "Epoch 6/10\n",
      "6061/6061 [==============================] - 9s 1ms/step - loss: 6.0283e-04\n",
      "Epoch 7/10\n",
      "6061/6061 [==============================] - 9s 1ms/step - loss: 4.6919e-04\n",
      "Epoch 8/10\n",
      "6061/6061 [==============================] - 9s 1ms/step - loss: 3.7461e-04\n",
      "Epoch 9/10\n",
      "6061/6061 [==============================] - 10s 2ms/step - loss: 2.9475e-04\n",
      "Epoch 10/10\n",
      "6061/6061 [==============================] - 9s 2ms/step - loss: 2.5448e-04\n"
     ]
    },
    {
     "data": {
      "text/plain": [
       "<keras.callbacks.History at 0x20c21d91210>"
      ]
     },
     "execution_count": 50,
     "metadata": {},
     "output_type": "execute_result"
    }
   ],
   "source": [
    "model.compile(\n",
    "    loss = tf.keras.losses.BinaryCrossentropy(),\n",
    "    optimizer = tf.keras.optimizers.Adam(learning_rate=0.01),\n",
    ")\n",
    "\n",
    "model.fit(\n",
    "    Xt,Yt,            \n",
    "    epochs=10,\n",
    "    batch_size=33 # banyaknya data untuk cari loss functionnya\n",
    ")"
   ]
  },
  {
   "cell_type": "code",
   "execution_count": 52,
   "metadata": {},
   "outputs": [
    {
     "name": "stdout",
     "output_type": "stream",
     "text": [
      "W1(2, 3):\n",
      " [[-19.505337    -0.06301843 -11.64935   ]\n",
      " [-16.283802    -9.589607    -0.32047108]] \n",
      "b1(3,): [ -3.048643 -11.783731 -12.430545]\n",
      "W2(3, 1):\n",
      " [[ 59.13506 ]\n",
      " [-74.676956]\n",
      " [-78.62947 ]] \n",
      "b2(1,): [-12.53295]\n"
     ]
    }
   ],
   "source": [
    "W1, b1 = model.get_layer(\"layer1\").get_weights()\n",
    "W2, b2 = model.get_layer(\"layer2\").get_weights()\n",
    "print(f\"W1{W1.shape}:\\n\", W1, f\"\\nb1{b1.shape}:\", b1)\n",
    "print(f\"W2{W2.shape}:\\n\", W2, f\"\\nb2{b2.shape}:\", b2)"
   ]
  },
  {
   "cell_type": "code",
   "execution_count": 53,
   "metadata": {},
   "outputs": [
    {
     "name": "stdout",
     "output_type": "stream",
     "text": [
      "1/1 [==============================] - 0s 85ms/step\n",
      "predictions = \n",
      " [[9.9896187e-01]\n",
      " [3.5122414e-06]]\n"
     ]
    }
   ],
   "source": [
    "X_test = np.array([\n",
    "    [200,13.9],  # postive example\n",
    "    [200,17]])   # negative example\n",
    "X_testn = norm_l(X_test)\n",
    "predictions = model.predict(X_testn)\n",
    "print(\"predictions = \\n\", predictions)"
   ]
  },
  {
   "cell_type": "code",
   "execution_count": 54,
   "metadata": {},
   "outputs": [
    {
     "name": "stdout",
     "output_type": "stream",
     "text": [
      "decisions = \n",
      "[[1.]\n",
      " [0.]]\n"
     ]
    }
   ],
   "source": [
    "yhat = np.zeros_like(predictions)\n",
    "for i in range(len(predictions)):\n",
    "    if predictions[i] >= 0.5:\n",
    "        yhat[i] = 1\n",
    "    else:\n",
    "        yhat[i] = 0\n",
    "print(f\"decisions = \\n{yhat}\")"
   ]
  },
  {
   "cell_type": "code",
   "execution_count": 58,
   "metadata": {},
   "outputs": [],
   "source": [
    "import numpy as np \n",
    "from matplotlib import pyplot as plt "
   ]
  },
  {
   "cell_type": "code",
   "execution_count": 64,
   "metadata": {},
   "outputs": [],
   "source": [
    "def plot_model_out(x,y,model):\n",
    "  \"\"\"\n",
    "  x,y: 2D MeshGrid input\n",
    "  model: Keras Model API Object\n",
    "  \"\"\"\n",
    "  grid = np.stack((x,y))\n",
    "  grid = grid.T.reshape(-1,2)\n",
    "  outs = model.predict(grid)\n",
    "  y1 = outs.T[0].reshape(x.shape[0],x.shape[0])\n",
    "  plt.contourf(x,y,y1)\n",
    "  plt.show()"
   ]
  },
  {
   "cell_type": "code",
   "execution_count": 66,
   "metadata": {},
   "outputs": [
    {
     "data": {
      "text/plain": [
       "(200, 1)"
      ]
     },
     "execution_count": 66,
     "metadata": {},
     "output_type": "execute_result"
    }
   ],
   "source": [
    "Y.shape"
   ]
  },
  {
   "cell_type": "code",
   "execution_count": 63,
   "metadata": {},
   "outputs": [
    {
     "ename": "ValueError",
     "evalue": "all input arrays must have the same shape",
     "output_type": "error",
     "traceback": [
      "\u001b[1;31m---------------------------------------------------------------------------\u001b[0m",
      "\u001b[1;31mValueError\u001b[0m                                Traceback (most recent call last)",
      "Cell \u001b[1;32mIn[63], line 1\u001b[0m\n\u001b[1;32m----> 1\u001b[0m plot_model_out(X,Y,model)\n",
      "Cell \u001b[1;32mIn[59], line 6\u001b[0m, in \u001b[0;36mplot_model_out\u001b[1;34m(x, y, model)\u001b[0m\n\u001b[0;32m      1\u001b[0m \u001b[39mdef\u001b[39;00m \u001b[39mplot_model_out\u001b[39m(x,y,model):\n\u001b[0;32m      2\u001b[0m \u001b[39m  \u001b[39m\u001b[39m\"\"\"\u001b[39;00m\n\u001b[0;32m      3\u001b[0m \u001b[39m  x,y: 2D MeshGrid input\u001b[39;00m\n\u001b[0;32m      4\u001b[0m \u001b[39m  model: Keras Model API Object\u001b[39;00m\n\u001b[0;32m      5\u001b[0m \u001b[39m  \"\"\"\u001b[39;00m\n\u001b[1;32m----> 6\u001b[0m   grid \u001b[39m=\u001b[39m np\u001b[39m.\u001b[39;49mstack((x,y))\n\u001b[0;32m      7\u001b[0m   grid \u001b[39m=\u001b[39m grid\u001b[39m.\u001b[39mT\u001b[39m.\u001b[39mreshape(\u001b[39m-\u001b[39m\u001b[39m1\u001b[39m,\u001b[39m2\u001b[39m)\n\u001b[0;32m      8\u001b[0m   outs \u001b[39m=\u001b[39m model\u001b[39m.\u001b[39mpredict(grid)\n",
      "File \u001b[1;32m<__array_function__ internals>:200\u001b[0m, in \u001b[0;36mstack\u001b[1;34m(*args, **kwargs)\u001b[0m\n",
      "File \u001b[1;32mc:\\Users\\arthu\\Documents\\CODE\\Python\\NeuralNetwork\\.venv\\lib\\site-packages\\numpy\\core\\shape_base.py:464\u001b[0m, in \u001b[0;36mstack\u001b[1;34m(arrays, axis, out, dtype, casting)\u001b[0m\n\u001b[0;32m    462\u001b[0m shapes \u001b[39m=\u001b[39m {arr\u001b[39m.\u001b[39mshape \u001b[39mfor\u001b[39;00m arr \u001b[39min\u001b[39;00m arrays}\n\u001b[0;32m    463\u001b[0m \u001b[39mif\u001b[39;00m \u001b[39mlen\u001b[39m(shapes) \u001b[39m!=\u001b[39m \u001b[39m1\u001b[39m:\n\u001b[1;32m--> 464\u001b[0m     \u001b[39mraise\u001b[39;00m \u001b[39mValueError\u001b[39;00m(\u001b[39m'\u001b[39m\u001b[39mall input arrays must have the same shape\u001b[39m\u001b[39m'\u001b[39m)\n\u001b[0;32m    466\u001b[0m result_ndim \u001b[39m=\u001b[39m arrays[\u001b[39m0\u001b[39m]\u001b[39m.\u001b[39mndim \u001b[39m+\u001b[39m \u001b[39m1\u001b[39m\n\u001b[0;32m    467\u001b[0m axis \u001b[39m=\u001b[39m normalize_axis_index(axis, result_ndim)\n",
      "\u001b[1;31mValueError\u001b[0m: all input arrays must have the same shape"
     ]
    }
   ],
   "source": [
    "plot_model_out(X,Y,model)"
   ]
  }
 ],
 "metadata": {
  "kernelspec": {
   "display_name": ".venv",
   "language": "python",
   "name": "python3"
  },
  "language_info": {
   "codemirror_mode": {
    "name": "ipython",
    "version": 3
   },
   "file_extension": ".py",
   "mimetype": "text/x-python",
   "name": "python",
   "nbconvert_exporter": "python",
   "pygments_lexer": "ipython3",
   "version": "3.10.9"
  },
  "orig_nbformat": 4
 },
 "nbformat": 4,
 "nbformat_minor": 2
}
