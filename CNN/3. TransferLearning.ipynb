{
 "cells": [
  {
   "attachments": {},
   "cell_type": "markdown",
   "metadata": {},
   "source": [
    "# 1) Download pretrained model"
   ]
  },
  {
   "cell_type": "code",
   "execution_count": 2,
   "metadata": {},
   "outputs": [
    {
     "name": "stderr",
     "output_type": "stream",
     "text": [
      "Traceback (most recent call last):\n",
      "  File \"C:\\Users\\arthu\\AppData\\Local\\Programs\\Python\\Python310\\lib\\runpy.py\", line 196, in _run_module_as_main\n",
      "    return _run_code(code, main_globals, None,\n",
      "  File \"C:\\Users\\arthu\\AppData\\Local\\Programs\\Python\\Python310\\lib\\runpy.py\", line 86, in _run_code\n",
      "    exec(code, run_globals)\n",
      "  File \"c:\\Users\\arthu\\Documents\\CODE\\Python\\NeuralNetwork\\.venv\\lib\\site-packages\\wget.py\", line 568, in <module>\n",
      "    filename = download(args[0], out=options.output)\n",
      "  File \"c:\\Users\\arthu\\Documents\\CODE\\Python\\NeuralNetwork\\.venv\\lib\\site-packages\\wget.py\", line 526, in download\n",
      "    (tmpfile, headers) = ulib.urlretrieve(binurl, tmpfile, callback)\n",
      "  File \"C:\\Users\\arthu\\AppData\\Local\\Programs\\Python\\Python310\\lib\\urllib\\request.py\", line 241, in urlretrieve\n",
      "    with contextlib.closing(urlopen(url, data)) as fp:\n",
      "  File \"C:\\Users\\arthu\\AppData\\Local\\Programs\\Python\\Python310\\lib\\urllib\\request.py\", line 216, in urlopen\n",
      "    return opener.open(url, data, timeout)\n",
      "  File \"C:\\Users\\arthu\\AppData\\Local\\Programs\\Python\\Python310\\lib\\urllib\\request.py\", line 525, in open\n",
      "    response = meth(req, response)\n",
      "  File \"C:\\Users\\arthu\\AppData\\Local\\Programs\\Python\\Python310\\lib\\urllib\\request.py\", line 634, in http_response\n",
      "    response = self.parent.error(\n",
      "  File \"C:\\Users\\arthu\\AppData\\Local\\Programs\\Python\\Python310\\lib\\urllib\\request.py\", line 563, in error\n",
      "    return self._call_chain(*args)\n",
      "  File \"C:\\Users\\arthu\\AppData\\Local\\Programs\\Python\\Python310\\lib\\urllib\\request.py\", line 496, in _call_chain\n",
      "    result = func(*args)\n",
      "  File \"C:\\Users\\arthu\\AppData\\Local\\Programs\\Python\\Python310\\lib\\urllib\\request.py\", line 643, in http_error_default\n",
      "    raise HTTPError(req.full_url, code, msg, hdrs, fp)\n",
      "urllib.error.HTTPError: HTTP Error 403: Forbidden\n"
     ]
    }
   ],
   "source": [
    "!wget --no-check-certificate \\\n",
    "    https://storage.googleapis.com/mledu-datasets/inception_v3_weights_tf_dim_ordering_tf_kernels_notop.h5 -O /tmp/inception_v3_weights_tf_dim_ordering_tf_kernels_notop.h5"
   ]
  }
 ],
 "metadata": {
  "kernelspec": {
   "display_name": ".venv",
   "language": "python",
   "name": "python3"
  },
  "language_info": {
   "codemirror_mode": {
    "name": "ipython",
    "version": 3
   },
   "file_extension": ".py",
   "mimetype": "text/x-python",
   "name": "python",
   "nbconvert_exporter": "python",
   "pygments_lexer": "ipython3",
   "version": "3.10.9"
  },
  "orig_nbformat": 4
 },
 "nbformat": 4,
 "nbformat_minor": 2
}
